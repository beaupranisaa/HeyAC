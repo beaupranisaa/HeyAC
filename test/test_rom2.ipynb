{
 "cells": [
  {
   "cell_type": "code",
   "execution_count": 1,
   "id": "incorporated-benchmark",
   "metadata": {},
   "outputs": [],
   "source": [
    "from hey_ac import HeyAC"
   ]
  },
  {
   "cell_type": "code",
   "execution_count": 2,
   "id": "insured-houston",
   "metadata": {},
   "outputs": [],
   "source": [
    "h = HeyAC(grammar_path = '../grammars/grammar_rom.txt')"
   ]
  },
  {
   "cell_type": "code",
   "execution_count": 3,
   "id": "driven-neighborhood",
   "metadata": {},
   "outputs": [],
   "source": [
    "texts = [\n",
    "    'the speed of the fan is too low',\n",
    "    'fan speed is low',\n",
    "    'temperature is high',\n",
    "    'humidity feels too high'\n",
    "]"
   ]
  },
  {
   "cell_type": "code",
   "execution_count": null,
   "id": "acting-arrangement",
   "metadata": {},
   "outputs": [],
   "source": [
    "for text in texts:\n",
    "    h.prune(texts)"
   ]
  }
 ],
 "metadata": {
  "kernelspec": {
   "display_name": "Python 3",
   "language": "python",
   "name": "python3"
  },
  "language_info": {
   "codemirror_mode": {
    "name": "ipython",
    "version": 3
   },
   "file_extension": ".py",
   "mimetype": "text/x-python",
   "name": "python",
   "nbconvert_exporter": "python",
   "pygments_lexer": "ipython3",
   "version": "3.9.2"
  }
 },
 "nbformat": 4,
 "nbformat_minor": 5
}

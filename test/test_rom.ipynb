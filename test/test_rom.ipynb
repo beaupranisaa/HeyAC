{
 "cells": [
  {
   "cell_type": "code",
   "execution_count": 1,
   "id": "overhead-english",
   "metadata": {},
   "outputs": [],
   "source": [
    "from hey_ac import HeyAC"
   ]
  },
  {
   "cell_type": "code",
   "execution_count": 2,
   "id": "automatic-blowing",
   "metadata": {},
   "outputs": [],
   "source": [
    "h = HeyAC(grammar_path = '../grammars/grammar_rom.txt')"
   ]
  },
  {
   "cell_type": "code",
   "execution_count": 3,
   "id": "bright-aviation",
   "metadata": {},
   "outputs": [],
   "source": [
    "texts = [\n",
    "    'the speed of the fan is too low',\n",
    "    'fan speed is low',\n",
    "    'temperature is high',\n",
    "    'humidity feels too high'\n",
    "]"
   ]
  },
  {
   "cell_type": "code",
   "execution_count": 4,
   "id": "sexual-creek",
   "metadata": {},
   "outputs": [
    {
     "name": "stdout",
     "output_type": "stream",
     "text": [
      "{'NN_PROP': ['speed'], 'NN_OBJ': ['fan'], 'VB': [], 'NEG': [], 'JJ': ['low']}\n",
      "{'NN_PROP': ['speed'], 'NN_OBJ': ['fan'], 'VB': [], 'NEG': [], 'JJ': ['low']}\n",
      "{'NN_PROP': ['temperature'], 'NN_OBJ': [], 'VB': [], 'NEG': [], 'JJ': ['high']}\n",
      "{'NN_PROP': ['humidity'], 'NN_OBJ': [], 'VB': [], 'NEG': [], 'JJ': ['high']}\n"
     ]
    }
   ],
   "source": [
    "for text in texts:\n",
    "    print(h.prune(text))"
   ]
  }
 ],
 "metadata": {
  "kernelspec": {
   "display_name": "Python 3",
   "language": "python",
   "name": "python3"
  },
  "language_info": {
   "codemirror_mode": {
    "name": "ipython",
    "version": 3
   },
   "file_extension": ".py",
   "mimetype": "text/x-python",
   "name": "python",
   "nbconvert_exporter": "python",
   "pygments_lexer": "ipython3",
   "version": "3.9.2"
  }
 },
 "nbformat": 4,
 "nbformat_minor": 5
}

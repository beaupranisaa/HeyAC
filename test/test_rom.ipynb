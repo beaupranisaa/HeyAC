{
 "cells": [
  {
   "cell_type": "code",
   "execution_count": 1,
   "id": "likely-privilege",
   "metadata": {},
   "outputs": [],
   "source": [
    "from hey_ac import HeyAC"
   ]
  },
  {
   "cell_type": "code",
   "execution_count": 2,
   "id": "outside-response",
   "metadata": {},
   "outputs": [],
   "source": [
    "h = HeyAC(grammar_path = '../grammars/grammar_rom.txt')"
   ]
  },
  {
   "cell_type": "code",
   "execution_count": 3,
   "id": "sublime-landing",
   "metadata": {},
   "outputs": [],
   "source": [
    "texts = [\n",
    "    'the speed of the fan is too low',\n",
    "    'fan speed is low',\n",
    "    'temperature is high',\n",
    "    'humidity feels too high',\n",
    "    'The room is very damp',\n",
    "    'It is burning',\n",
    "    'it is so cold',\n",
    "    'the fan is not quite fast',\n",
    "    'i feel very hot',\n",
    "    'i am freezing',\n",
    "    'the dog fe'\n",
    "]"
   ]
  },
  {
   "cell_type": "code",
   "execution_count": 4,
   "id": "particular-ecuador",
   "metadata": {},
   "outputs": [
    {
     "name": "stdout",
     "output_type": "stream",
     "text": [
      "==================================================\n",
      "the speed of the fan is too low\n",
      "{'NN_PROP': 'SPEED', 'NN_OBJ': 'FAN', 'VB': [], 'NEG': [], 'JJ': 'low', 'USER': []}\n",
      "==================================================\n",
      "fan speed is low\n",
      "{'NN_PROP': 'SPEED', 'NN_OBJ': 'FAN', 'VB': [], 'NEG': [], 'JJ': 'low', 'USER': []}\n",
      "==================================================\n",
      "temperature is high\n",
      "{'NN_PROP': 'TEMPERATURE', 'NN_OBJ': [], 'VB': [], 'NEG': [], 'JJ': 'high', 'USER': []}\n",
      "==================================================\n",
      "humidity feels too high\n",
      "{'NN_PROP': 'HUMIDITY', 'NN_OBJ': [], 'VB': [], 'NEG': [], 'JJ': 'high', 'USER': []}\n",
      "==================================================\n",
      "The room is very damp\n",
      "{'NN_PROP': [], 'NN_OBJ': 'ENVIRONMENT', 'VB': [], 'NEG': [], 'JJ': 'HUMID', 'USER': []}\n",
      "==================================================\n",
      "It is burning\n",
      "{'NN_PROP': [], 'NN_OBJ': 'ENVIRONMENT', 'VB': [], 'NEG': [], 'JJ': 'HOT', 'USER': []}\n",
      "==================================================\n",
      "it is so cold\n",
      "{'NN_PROP': [], 'NN_OBJ': 'ENVIRONMENT', 'VB': [], 'NEG': [], 'JJ': 'COLD', 'USER': []}\n",
      "==================================================\n",
      "the fan is not quite fast\n",
      "{'NN_PROP': [], 'NN_OBJ': 'FAN', 'VB': [], 'NEG': 'not', 'JJ': 'FAST', 'USER': []}\n",
      "==================================================\n",
      "i feel very hot\n",
      "{'NN_PROP': [], 'NN_OBJ': [], 'VB': [], 'NEG': [], 'JJ': 'HOT', 'USER': 'i'}\n",
      "==================================================\n",
      "i am freezing\n",
      "{'NN_PROP': [], 'NN_OBJ': [], 'VB': [], 'NEG': [], 'JJ': 'COLD', 'USER': 'i'}\n"
     ]
    }
   ],
   "source": [
    "for text in texts:\n",
    "    print(\"=\"*50)\n",
    "    print(text)\n",
    "    print(h.prune(text))"
   ]
  },
  {
   "cell_type": "code",
   "execution_count": 5,
   "id": "valid-afternoon",
   "metadata": {},
   "outputs": [
    {
     "name": "stdout",
     "output_type": "stream",
     "text": [
      "==================================================\n",
      "the speed of the fan is too low\n",
      "(S\n",
      "  (NP\n",
      "    (PROPERTY (DT the) (NN_PROP (SPEED speed)))\n",
      "    (IN of)\n",
      "    (OBJECT (DT the) (NN_OBJ (FAN fan))))\n",
      "  (VP (VBZ (BE is)) (ADJP (RB too) (JJ low))))\n",
      "==================================================\n",
      "fan speed is low\n",
      "(S\n",
      "  (NP (OBJECT (NN_OBJ (FAN fan))) (PROPERTY (NN_PROP (SPEED speed))))\n",
      "  (VP (VBZ (BE is)) (ADJP (JJ low))))\n",
      "==================================================\n",
      "temperature is high\n",
      "(S\n",
      "  (NP (PROPERTY (NN_PROP (TEMPERATURE temperature))))\n",
      "  (VP (VBZ (BE is)) (ADJP (JJ high))))\n",
      "==================================================\n",
      "humidity feels too high\n",
      "(S\n",
      "  (NP (PROPERTY (NN_PROP (HUMIDITY humidity))))\n",
      "  (VP (VBZ (FEEL feels)) (ADJP (RB too) (JJ high))))\n",
      "==================================================\n",
      "The room is very damp\n",
      "(S\n",
      "  (NP (OBJECT (DT the) (NN_OBJ (ENVIRONMENT room))))\n",
      "  (VP (VBZ (BE is)) (ADJP (RB very) (JJ (HUMID damp)))))\n",
      "==================================================\n",
      "It is burning\n",
      "(S\n",
      "  (NP (OBJECT (NN_OBJ (ENVIRONMENT it))))\n",
      "  (VP (VBZ (BE is)) (ADJP (JJ (HOT burning)))))\n",
      "==================================================\n",
      "it is so cold\n",
      "(S\n",
      "  (NP (OBJECT (NN_OBJ (ENVIRONMENT it))))\n",
      "  (VP (VBZ (BE is)) (ADJP (RB so) (JJ (COLD cold)))))\n",
      "==================================================\n",
      "the fan is not quite fast\n",
      "(S\n",
      "  (NP (OBJECT (DT the) (NN_OBJ (FAN fan))))\n",
      "  (VP (VBZ (BE is)) (NEG not) (ADJP (RB quite) (JJ (FAST fast)))))\n",
      "==================================================\n",
      "i feel very hot\n",
      "(S\n",
      "  (NP (OBJECT (USER i)))\n",
      "  (VP (VBZ (FEEL feel)) (ADJP (RB very) (JJ (HOT hot)))))\n",
      "==================================================\n",
      "i am freezing\n",
      "(S\n",
      "  (NP (OBJECT (USER i)))\n",
      "  (VP (VBZ (BE am)) (ADJP (JJ (COLD freezing)))))\n"
     ]
    }
   ],
   "source": [
    "for text in texts:\n",
    "    print(\"=\"*50)\n",
    "    print(text)\n",
    "    print(h.parse(text)[0])"
   ]
  },
  {
   "cell_type": "code",
   "execution_count": 6,
   "id": "competitive-disorder",
   "metadata": {},
   "outputs": [],
   "source": [
    "parse_tree = h.parse(text)"
   ]
  },
  {
   "cell_type": "code",
   "execution_count": 7,
   "id": "alternate-authentication",
   "metadata": {},
   "outputs": [
    {
     "name": "stdout",
     "output_type": "stream",
     "text": [
      "(NP (OBJECT (USER i)))\n",
      "(VP (VBZ (BE am)) (ADJP (JJ (COLD freezing))))\n"
     ]
    }
   ],
   "source": [
    "for t in parse_tree[0]:\n",
    "    print(t)"
   ]
  },
  {
   "cell_type": "code",
   "execution_count": 8,
   "id": "abroad-collapse",
   "metadata": {},
   "outputs": [
    {
     "data": {
      "text/plain": [
       "[Tree('NP', [Tree('OBJECT', [Tree('USER', ['i'])])]),\n",
       " Tree('VP', [Tree('VBZ', [Tree('BE', ['am'])]), Tree('ADJP', [Tree('JJ', [Tree('COLD', ['freezing'])])])])]"
      ]
     },
     "execution_count": 8,
     "metadata": {},
     "output_type": "execute_result"
    }
   ],
   "source": [
    "list(parse_tree[0])"
   ]
  },
  {
   "cell_type": "code",
   "execution_count": null,
   "id": "organic-nylon",
   "metadata": {},
   "outputs": [],
   "source": []
  }
 ],
 "metadata": {
  "kernelspec": {
   "display_name": "Python 3",
   "language": "python",
   "name": "python3"
  },
  "language_info": {
   "codemirror_mode": {
    "name": "ipython",
    "version": 3
   },
   "file_extension": ".py",
   "mimetype": "text/x-python",
   "name": "python",
   "nbconvert_exporter": "python",
   "pygments_lexer": "ipython3",
   "version": "3.9.2"
  }
 },
 "nbformat": 4,
 "nbformat_minor": 5
}

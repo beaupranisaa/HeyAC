{
 "cells": [
  {
   "cell_type": "code",
   "execution_count": 1,
   "id": "dangerous-jacob",
   "metadata": {},
   "outputs": [],
   "source": [
    "from hey_ac import HeyAC\n",
    "import yaml"
   ]
  },
  {
   "cell_type": "code",
   "execution_count": 2,
   "id": "blessed-signal",
   "metadata": {},
   "outputs": [],
   "source": [
    "h = HeyAC(grammar_path = '../grammars/grammar_rom.txt')"
   ]
  },
  {
   "cell_type": "code",
   "execution_count": 3,
   "id": "increased-density",
   "metadata": {},
   "outputs": [],
   "source": [
    "texts = [\n",
    "    'the speed of the fan is too low',\n",
    "    'fan speed is low',\n",
    "    'temperature is high',\n",
    "    'humidity feels too high',\n",
    "    'The room is very damp',\n",
    "    'It is burning',\n",
    "    'it is so cold',\n",
    "    'the fan is not quite fast',\n",
    "    'i feel very hot',\n",
    "    'i am freezing',\n",
    "    'the dog feels cold',\n",
    "    'the ac is very weak',\n",
    "    'the volume of air is so low',\n",
    "]"
   ]
  },
  {
   "cell_type": "code",
   "execution_count": 4,
   "id": "improving-glucose",
   "metadata": {},
   "outputs": [
    {
     "name": "stdout",
     "output_type": "stream",
     "text": [
      "==================================================\n",
      "the speed of the fan is too low\n",
      "\n",
      "JJ: LOW\n",
      "NEG: null\n",
      "NN_OBJ: FAN\n",
      "NN_PROP: VOLUME\n",
      "VB: null\n",
      "\n",
      "==================================================\n",
      "fan speed is low\n",
      "\n",
      "JJ: LOW\n",
      "NEG: null\n",
      "NN_OBJ: FAN\n",
      "NN_PROP: VOLUME\n",
      "VB: null\n",
      "\n",
      "==================================================\n",
      "temperature is high\n",
      "\n",
      "JJ: HIGH\n",
      "NEG: null\n",
      "NN_OBJ: null\n",
      "NN_PROP: TEMPERATURE\n",
      "VB: null\n",
      "\n",
      "==================================================\n",
      "humidity feels too high\n",
      "\n",
      "JJ: HIGH\n",
      "NEG: null\n",
      "NN_OBJ: null\n",
      "NN_PROP: HUMIDITY\n",
      "VB: null\n",
      "\n",
      "==================================================\n",
      "The room is very damp\n",
      "\n",
      "JJ: HUMID\n",
      "NEG: null\n",
      "NN_OBJ: ENVIRONMENT\n",
      "NN_PROP: null\n",
      "VB: null\n",
      "\n",
      "==================================================\n",
      "It is burning\n",
      "\n",
      "JJ: HOT\n",
      "NEG: null\n",
      "NN_OBJ: ENVIRONMENT\n",
      "NN_PROP: null\n",
      "VB: null\n",
      "\n",
      "==================================================\n",
      "it is so cold\n",
      "\n",
      "JJ: COLD\n",
      "NEG: null\n",
      "NN_OBJ: ENVIRONMENT\n",
      "NN_PROP: null\n",
      "VB: null\n",
      "\n",
      "==================================================\n",
      "the fan is not quite fast\n",
      "\n",
      "JJ: FAST\n",
      "NEG: NOT\n",
      "NN_OBJ: FAN\n",
      "NN_PROP: null\n",
      "VB: null\n",
      "\n",
      "==================================================\n",
      "i feel very hot\n",
      "\n",
      "JJ: HOT\n",
      "NEG: null\n",
      "NN_OBJ: null\n",
      "NN_PROP: null\n",
      "VB: null\n",
      "\n",
      "==================================================\n",
      "i am freezing\n",
      "\n",
      "JJ: COLD\n",
      "NEG: null\n",
      "NN_OBJ: null\n",
      "NN_PROP: null\n",
      "VB: null\n",
      "\n",
      "==================================================\n",
      "the dog feels cold\n",
      "\n",
      "JJ: COLD\n",
      "NEG: null\n",
      "NN_OBJ: null\n",
      "NN_PROP: null\n",
      "VB: null\n",
      "\n",
      "==================================================\n",
      "the ac is very weak\n",
      "\n",
      "JJ: WEAK\n",
      "NEG: null\n",
      "NN_OBJ: AC\n",
      "NN_PROP: null\n",
      "VB: null\n",
      "\n",
      "==================================================\n",
      "the volume of air is so low\n",
      "\n",
      "JJ: LOW\n",
      "NEG: null\n",
      "NN_OBJ: ENVIRONMENT\n",
      "NN_PROP: VOLUME\n",
      "VB: null\n",
      "\n"
     ]
    }
   ],
   "source": [
    "for text in texts:\n",
    "    print(\"=\"*50)\n",
    "    print(text)\n",
    "    print()\n",
    "    print(yaml.dump(h.prune(text)))"
   ]
  },
  {
   "cell_type": "code",
   "execution_count": 5,
   "id": "registered-cooling",
   "metadata": {},
   "outputs": [
    {
     "name": "stdout",
     "output_type": "stream",
     "text": [
      "==================================================\n",
      "the speed of the fan is too low\n",
      "(S\n",
      "  (NP\n",
      "    (PROPERTY (DT the) (NN_PROP (VOLUME speed)))\n",
      "    (IN of)\n",
      "    (OBJECT (DT the) (NN_OBJ (FAN fan))))\n",
      "  (VP (VBZ (BE is)) (ADJP (RB too) (JJ (LOW low)))))\n",
      "==================================================\n",
      "fan speed is low\n",
      "(S\n",
      "  (NP\n",
      "    (OBJECT (NN_OBJ (FAN fan)))\n",
      "    (PROPERTY (NN_PROP (VOLUME speed))))\n",
      "  (VP (VBZ (BE is)) (ADJP (JJ (LOW low)))))\n",
      "==================================================\n",
      "temperature is high\n",
      "(S\n",
      "  (NP (PROPERTY (NN_PROP (TEMPERATURE temperature))))\n",
      "  (VP (VBZ (BE is)) (ADJP (JJ (HIGH high)))))\n",
      "==================================================\n",
      "humidity feels too high\n",
      "(S\n",
      "  (NP (PROPERTY (NN_PROP (HUMIDITY humidity))))\n",
      "  (VP (VBZ (FEEL feels)) (ADJP (RB too) (JJ (HIGH high)))))\n",
      "==================================================\n",
      "The room is very damp\n",
      "(S\n",
      "  (NP (OBJECT (DT the) (NN_OBJ (ENVIRONMENT room))))\n",
      "  (VP (VBZ (BE is)) (ADJP (RB very) (JJ (HUMID damp)))))\n",
      "==================================================\n",
      "It is burning\n",
      "(S\n",
      "  (NP (OBJECT (NN_OBJ (ENVIRONMENT it))))\n",
      "  (VP (VBZ (BE is)) (ADJP (JJ (HOT burning)))))\n",
      "==================================================\n",
      "it is so cold\n",
      "(S\n",
      "  (NP (OBJECT (NN_OBJ (ENVIRONMENT it))))\n",
      "  (VP (VBZ (BE is)) (ADJP (RB so) (JJ (COLD cold)))))\n",
      "==================================================\n",
      "the fan is not quite fast\n",
      "(S\n",
      "  (NP (OBJECT (DT the) (NN_OBJ (FAN fan))))\n",
      "  (VP (VBZ (BE is)) (NEG not) (ADJP (RB quite) (JJ (FAST fast)))))\n",
      "==================================================\n",
      "i feel very hot\n",
      "(S\n",
      "  (NP (OBJECT (USER i)))\n",
      "  (VP (VBZ (FEEL feel)) (ADJP (RB very) (JJ (HOT hot)))))\n",
      "==================================================\n",
      "i am freezing\n",
      "(S\n",
      "  (NP (OBJECT (USER i)))\n",
      "  (VP (VBZ (BE am)) (ADJP (JJ (COLD freezing)))))\n",
      "==================================================\n",
      "the dog feels cold\n",
      "(S\n",
      "  (NP (OBJECT (DT the) (USER dog)))\n",
      "  (VP (VBZ (FEEL feels)) (ADJP (JJ (COLD cold)))))\n",
      "==================================================\n",
      "the ac is very weak\n",
      "(S\n",
      "  (NP (OBJECT (DT the) (NN_OBJ (AC ac))))\n",
      "  (VP (VBZ (BE is)) (ADJP (RB very) (JJ (WEAK weak)))))\n",
      "==================================================\n",
      "the volume of air is so low\n",
      "(S\n",
      "  (NP\n",
      "    (PROPERTY (DT the) (NN_PROP (VOLUME volume)))\n",
      "    (IN of)\n",
      "    (OBJECT (NN_OBJ (ENVIRONMENT air))))\n",
      "  (VP (VBZ (BE is)) (ADJP (RB so) (JJ (LOW low)))))\n"
     ]
    }
   ],
   "source": [
    "for text in texts:\n",
    "    print(\"=\"*50)\n",
    "    print(text)\n",
    "    print(h.parse(text)[0])"
   ]
  },
  {
   "cell_type": "code",
   "execution_count": 6,
   "id": "representative-import",
   "metadata": {},
   "outputs": [],
   "source": [
    "parse_tree = h.parse(text)"
   ]
  },
  {
   "cell_type": "code",
   "execution_count": 7,
   "id": "exciting-pressing",
   "metadata": {},
   "outputs": [
    {
     "name": "stdout",
     "output_type": "stream",
     "text": [
      "(NP\n",
      "  (PROPERTY (DT the) (NN_PROP (VOLUME volume)))\n",
      "  (IN of)\n",
      "  (OBJECT (NN_OBJ (ENVIRONMENT air))))\n",
      "(VP (VBZ (BE is)) (ADJP (RB so) (JJ (LOW low))))\n"
     ]
    }
   ],
   "source": [
    "for t in parse_tree[0]:\n",
    "    print(t)"
   ]
  },
  {
   "cell_type": "code",
   "execution_count": 8,
   "id": "powered-vegetation",
   "metadata": {},
   "outputs": [
    {
     "data": {
      "text/plain": [
       "[Tree('NP', [Tree('PROPERTY', [Tree('DT', ['the']), Tree('NN_PROP', [Tree('VOLUME', ['volume'])])]), Tree('IN', ['of']), Tree('OBJECT', [Tree('NN_OBJ', [Tree('ENVIRONMENT', ['air'])])])]),\n",
       " Tree('VP', [Tree('VBZ', [Tree('BE', ['is'])]), Tree('ADJP', [Tree('RB', ['so']), Tree('JJ', [Tree('LOW', ['low'])])])])]"
      ]
     },
     "execution_count": 8,
     "metadata": {},
     "output_type": "execute_result"
    }
   ],
   "source": [
    "list(parse_tree[0])"
   ]
  },
  {
   "cell_type": "code",
   "execution_count": null,
   "id": "assumed-floating",
   "metadata": {},
   "outputs": [],
   "source": []
  }
 ],
 "metadata": {
  "kernelspec": {
   "display_name": "Python 3",
   "language": "python",
   "name": "python3"
  },
  "language_info": {
   "codemirror_mode": {
    "name": "ipython",
    "version": 3
   },
   "file_extension": ".py",
   "mimetype": "text/x-python",
   "name": "python",
   "nbconvert_exporter": "python",
   "pygments_lexer": "ipython3",
   "version": "3.9.2"
  }
 },
 "nbformat": 4,
 "nbformat_minor": 5
}
